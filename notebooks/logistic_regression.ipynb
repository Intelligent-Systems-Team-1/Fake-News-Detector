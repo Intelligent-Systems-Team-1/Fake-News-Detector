{
 "cells": [
  {
   "cell_type": "code",
   "execution_count": 1,
   "id": "6544be25",
   "metadata": {},
   "outputs": [],
   "source": [
    "import os\n",
    "import pickle\n",
    "import pandas as pd\n",
    "from sklearn.model_selection import train_test_split\n",
    "from sklearn.feature_extraction.text import TfidfVectorizer\n",
    "from sklearn.linear_model import LogisticRegression\n",
    "from sklearn.metrics import accuracy_score, f1_score, classification_report\n",
    "from imblearn.over_sampling import RandomOverSampler"
   ]
  },
  {
   "cell_type": "code",
   "execution_count": 2,
   "id": "26436deb",
   "metadata": {},
   "outputs": [],
   "source": [
    "def train_evaluate_logistic_regression( texts, labels, test_size: float = 0.2, random_state: int = 42, max_features: int = 5000, stop_words: str = \"english\"):\n",
    "    X_train, X_test, y_train, y_test = train_test_split(texts, labels, stratify=labels, test_size=test_size, random_state=random_state)\n",
    "    vectorizer = TfidfVectorizer(stop_words=stop_words, max_features=max_features)\n",
    "    X_train_vec = vectorizer.fit_transform(X_train)\n",
    "    X_test_vec  = vectorizer.transform(X_test)\n",
    "\n",
    "    model = LogisticRegression(solver=\"lbfgs\", max_iter=1000, class_weight=\"balanced\")\n",
    "    model.fit(X_train_vec, y_train)\n",
    "\n",
    "    y_pred = model.predict(X_test_vec)\n",
    "    acc    = accuracy_score(y_test, y_pred)\n",
    "    f1     = f1_score(y_test, y_pred, average=\"weighted\")\n",
    "    report = classification_report(y_test, y_pred)\n",
    "\n",
    "    metrics = {\n",
    "        \"accuracy\": acc,\n",
    "        \"f1_weighted\": f1,\n",
    "        \"classification_report\": report\n",
    "    }\n",
    "    \n",
    "    return vectorizer, model, metrics"
   ]
  },
  {
   "cell_type": "code",
   "execution_count": 3,
   "id": "9d15b850",
   "metadata": {},
   "outputs": [
    {
     "name": "stdout",
     "output_type": "stream",
     "text": [
      "Accuracy:  0.9012656033287101\n",
      "Weighted F1:  0.9012238143406656\n",
      "              precision    recall  f1-score   support\n",
      "\n",
      "           0       0.89      0.92      0.90      5825\n",
      "           1       0.91      0.88      0.90      5711\n",
      "\n",
      "    accuracy                           0.90     11536\n",
      "   macro avg       0.90      0.90      0.90     11536\n",
      "weighted avg       0.90      0.90      0.90     11536\n",
      "\n"
     ]
    }
   ],
   "source": [
    "df = pd.read_csv(r\"../cleaned_datasets/cleaned_news_binary.csv\")\n",
    "vec, clf, stats = train_evaluate_logistic_regression(df['text'], df['label'])\n",
    "\n",
    "print(\"Accuracy: \", stats['accuracy'])\n",
    "print(\"Weighted F1: \", stats['f1_weighted'])\n",
    "print(stats['classification_report'])"
   ]
  },
  {
   "cell_type": "code",
   "execution_count": 4,
   "id": "395ea00d",
   "metadata": {},
   "outputs": [
    {
     "name": "stdout",
     "output_type": "stream",
     "text": [
      "Accuracy:  0.7838938973647711\n",
      "Weighted F1:  0.8202753848114679\n",
      "              precision    recall  f1-score   support\n",
      "\n",
      "           0       0.97      0.83      0.89      5196\n",
      "           1       1.00      0.91      0.95      4694\n",
      "           2       0.21      0.35      0.26       491\n",
      "           3       0.18      0.23      0.20       526\n",
      "           4       0.16      0.28      0.21       420\n",
      "           5       0.10      0.29      0.15       209\n",
      "\n",
      "    accuracy                           0.78     11536\n",
      "   macro avg       0.44      0.48      0.44     11536\n",
      "weighted avg       0.87      0.78      0.82     11536\n",
      "\n"
     ]
    }
   ],
   "source": [
    "df = pd.read_csv(r\"../cleaned_datasets/cleaned_news_multinomial.csv\")\n",
    "vec1, clf1, stats1 = train_evaluate_logistic_regression(df['text'], df['label'])\n",
    "\n",
    "print(\"Accuracy: \", stats1['accuracy'])\n",
    "print(\"Weighted F1: \", stats1['f1_weighted'])\n",
    "print(stats1['classification_report'])"
   ]
  },
  {
   "cell_type": "code",
   "execution_count": 5,
   "id": "4dd3d708",
   "metadata": {},
   "outputs": [],
   "source": [
    "def train_with_oversampling(texts, labels, test_size=0.2, random_state=42, max_features=5000, stop_words=\"english\"):\n",
    "    X_train, X_test, y_train, y_test = train_test_split(texts, labels, stratify=labels, test_size=test_size, random_state=random_state)\n",
    "\n",
    "    vectorizer = TfidfVectorizer(stop_words=stop_words, max_features=max_features)\n",
    "    X_train_vec = vectorizer.fit_transform(X_train)\n",
    "    X_test_vec  = vectorizer.transform(X_test)\n",
    "\n",
    "    ros = RandomOverSampler(random_state=random_state)\n",
    "    X_res, y_res = ros.fit_resample(X_train_vec, y_train)\n",
    "    print(\"Resampled label counts:\", dict(pd.Series(y_res).value_counts()))\n",
    "\n",
    "    model = LogisticRegression(solver=\"lbfgs\", max_iter=1000)\n",
    "    model.fit(X_res, y_res)\n",
    "\n",
    "    y_pred = model.predict(X_test_vec)\n",
    "    metrics = {\n",
    "        \"accuracy\": accuracy_score(y_test, y_pred),\n",
    "        \"f1_weighted\": f1_score(y_test, y_pred, average=\"weighted\"),\n",
    "        \"report\": classification_report(y_test, y_pred)\n",
    "    }\n",
    "    return vectorizer, model, metrics"
   ]
  },
  {
   "cell_type": "code",
   "execution_count": 6,
   "id": "722e939c",
   "metadata": {},
   "outputs": [
    {
     "name": "stdout",
     "output_type": "stream",
     "text": [
      "Resampled label counts: {1: 20780, 0: 20780, 3: 20780, 4: 20780, 5: 20780, 2: 20780}\n",
      "Accuracy:  0.7863210818307905\n",
      "Weighted F1:  0.8211469496515972\n",
      "              precision    recall  f1-score   support\n",
      "\n",
      "           0       0.97      0.83      0.90      5196\n",
      "           1       1.00      0.91      0.95      4694\n",
      "           2       0.21      0.33      0.26       491\n",
      "           3       0.18      0.25      0.21       526\n",
      "           4       0.17      0.28      0.21       420\n",
      "           5       0.10      0.27      0.15       209\n",
      "\n",
      "    accuracy                           0.79     11536\n",
      "   macro avg       0.44      0.48      0.44     11536\n",
      "weighted avg       0.87      0.79      0.82     11536\n",
      "\n"
     ]
    }
   ],
   "source": [
    "df = pd.read_csv(r\"../cleaned_datasets/cleaned_news_multinomial.csv\")\n",
    "vec2, clf2, stats2 = train_with_oversampling(df['text'], df['label'])\n",
    "\n",
    "print(\"Accuracy: \", stats2['accuracy'])\n",
    "print(\"Weighted F1: \", stats2['f1_weighted'])\n",
    "print(stats2['report'])"
   ]
  },
  {
   "cell_type": "code",
   "execution_count": null,
   "id": "4cb36117",
   "metadata": {},
   "outputs": [],
   "source": [
    "with open(\"../models/logistic_pipeline.pkl\", \"wb\") as f:\n",
    "    pickle.dump({\"vectorizer\": vec2, \"model\": clf2}, f)"
   ]
  }
 ],
 "metadata": {
  "kernelspec": {
   "display_name": "base",
   "language": "python",
   "name": "python3"
  },
  "language_info": {
   "codemirror_mode": {
    "name": "ipython",
    "version": 3
   },
   "file_extension": ".py",
   "mimetype": "text/x-python",
   "name": "python",
   "nbconvert_exporter": "python",
   "pygments_lexer": "ipython3",
   "version": "3.12.3"
  }
 },
 "nbformat": 4,
 "nbformat_minor": 5
}
