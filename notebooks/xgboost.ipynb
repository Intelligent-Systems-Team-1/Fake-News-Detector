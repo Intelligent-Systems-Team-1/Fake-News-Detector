{
 "cells": [
  {
   "cell_type": "code",
   "execution_count": 7,
   "id": "348c809b",
   "metadata": {},
   "outputs": [],
   "source": [
    "import pandas as pd\n",
    "from imblearn.over_sampling import RandomOverSampler\n",
    "from sklearn.model_selection import train_test_split\n",
    "from sklearn.feature_extraction.text import TfidfVectorizer\n",
    "from sklearn.metrics import accuracy_score, f1_score, classification_report\n",
    "import xgboost as xgb\n",
    "import pickle"
   ]
  },
  {
   "cell_type": "code",
   "execution_count": 2,
   "id": "8d8b7b28",
   "metadata": {},
   "outputs": [],
   "source": [
    "def train_evaluate_xgboost(texts, labels, test_size: float = 0.2, random_state: int = 42, max_features: int = 5000, stop_words: str = \"english\", xgb_params: dict = None):\n",
    "    X_train, X_test, y_train, y_test = train_test_split(texts, labels, stratify=labels, test_size=test_size, random_state=random_state)\n",
    "    vectorizer = TfidfVectorizer(stop_words=stop_words, max_features=max_features)\n",
    "    X_train_vec = vectorizer.fit_transform(X_train)\n",
    "    X_test_vec  = vectorizer.transform(X_test)\n",
    "    default_params = {\n",
    "        \"objective\": \"multi:softprob\" if len(set(labels)) > 2 else \"binary:logistic\",\n",
    "        \"eval_metric\": \"mlogloss\" if len(set(labels)) > 2 else \"logloss\",\n",
    "        \"random_state\": random_state\n",
    "    }\n",
    "\n",
    "    if xgb_params:\n",
    "        default_params.update(xgb_params)\n",
    "\n",
    "    model = xgb.XGBClassifier(**default_params)\n",
    "    model.fit(X_train_vec.toarray(), y_train)\n",
    "\n",
    "    y_pred = model.predict(X_test_vec.toarray())\n",
    "    acc    = accuracy_score(y_test, y_pred)\n",
    "    f1     = f1_score(y_test, y_pred, average=\"weighted\")\n",
    "    report = classification_report(y_test, y_pred)\n",
    "    \n",
    "    metrics = {\n",
    "        \"accuracy\": acc,\n",
    "        \"f1_weighted\": f1,\n",
    "        \"classification_report\": report\n",
    "    }\n",
    "\n",
    "    return vectorizer, model, metrics"
   ]
  },
  {
   "cell_type": "code",
   "execution_count": 3,
   "id": "e034acc7",
   "metadata": {},
   "outputs": [
    {
     "name": "stdout",
     "output_type": "stream",
     "text": [
      "Accuracy: 0.8977981969486823\n",
      "Weighted F1: 0.8975522023162581\n",
      "              precision    recall  f1-score   support\n",
      "\n",
      "           0       0.87      0.94      0.90      5825\n",
      "           1       0.94      0.85      0.89      5711\n",
      "\n",
      "    accuracy                           0.90     11536\n",
      "   macro avg       0.90      0.90      0.90     11536\n",
      "weighted avg       0.90      0.90      0.90     11536\n",
      "\n"
     ]
    }
   ],
   "source": [
    "df = pd.read_csv(r\"./../cleaned_datasets/cleaned_news_binary.csv\")\n",
    "vec, xgb_clf, stats = train_evaluate_xgboost(df[\"text\"], df[\"label\"])\n",
    "\n",
    "print(\"Accuracy:\", stats[\"accuracy\"])\n",
    "print(\"Weighted F1:\", stats[\"f1_weighted\"])\n",
    "print(stats[\"classification_report\"])"
   ]
  },
  {
   "cell_type": "code",
   "execution_count": 4,
   "id": "c79ba35f",
   "metadata": {},
   "outputs": [
    {
     "name": "stdout",
     "output_type": "stream",
     "text": [
      "Accuracy: 0.826369625520111\n",
      "Weighted F1: 0.7952779646401442\n",
      "              precision    recall  f1-score   support\n",
      "\n",
      "           0       0.78      0.97      0.87      5196\n",
      "           1       0.98      0.92      0.95      4694\n",
      "           2       0.26      0.14      0.18       491\n",
      "           3       0.25      0.11      0.15       526\n",
      "           4       0.25      0.07      0.11       420\n",
      "           5       0.15      0.02      0.03       209\n",
      "\n",
      "    accuracy                           0.83     11536\n",
      "   macro avg       0.44      0.37      0.38     11536\n",
      "weighted avg       0.78      0.83      0.80     11536\n",
      "\n"
     ]
    }
   ],
   "source": [
    "df = pd.read_csv(r\"./../cleaned_datasets/cleaned_news_multinomial.csv\")\n",
    "vec1, xgb_clf1, stats1 = train_evaluate_xgboost(df[\"text\"], df[\"label\"])\n",
    "\n",
    "print(\"Accuracy:\", stats1[\"accuracy\"])\n",
    "print(\"Weighted F1:\", stats1[\"f1_weighted\"])\n",
    "print(stats1[\"classification_report\"])"
   ]
  },
  {
   "cell_type": "code",
   "execution_count": 5,
   "id": "b75bcbb7",
   "metadata": {},
   "outputs": [],
   "source": [
    "def train_xgb_with_oversampling(texts, labels, test_size=0.2, random_state=42, max_features=5000, stop_words=\"english\"):\n",
    "    X_train, X_test, y_train, y_test = train_test_split(texts, labels, stratify=labels, test_size=test_size, random_state=random_state)\n",
    "\n",
    "    vec = TfidfVectorizer(stop_words=stop_words, max_features=max_features)\n",
    "    X_train_vec = vec.fit_transform(X_train)\n",
    "    X_test_vec = vec.transform(X_test)\n",
    "\n",
    "    ros = RandomOverSampler(random_state=random_state)\n",
    "    X_res, y_res = ros.fit_resample(X_train_vec, y_train)\n",
    "    print(\"Resampled label counts:\", dict(pd.Series(y_res).value_counts()))\n",
    "\n",
    "    model = xgb.XGBClassifier(eval_metric='mlogloss' if len(set(labels))>2 else 'logloss', random_state=random_state)\n",
    "    model.fit(X_res.toarray(), y_res)\n",
    "\n",
    "    y_pred = model.predict(X_test_vec.toarray())\n",
    "    acc    = accuracy_score(y_test, y_pred)\n",
    "    f1     = f1_score(y_test, y_pred, average=\"weighted\")\n",
    "    report = classification_report(y_test, y_pred)\n",
    "\n",
    "    metrics = {\n",
    "        \"accuracy\": acc,\n",
    "        \"f1_weighted\": f1,\n",
    "        \"classification_report\": report\n",
    "    }\n",
    "\n",
    "    return vec, model, metrics"
   ]
  },
  {
   "cell_type": "code",
   "execution_count": 6,
   "id": "5ee64acd",
   "metadata": {},
   "outputs": [
    {
     "name": "stdout",
     "output_type": "stream",
     "text": [
      "Resampled label counts: {1: 20780, 0: 20780, 3: 20780, 4: 20780, 5: 20780, 2: 20780}\n",
      "Accuracy: 0.7662101248266296\n",
      "Weighted F1: 0.8095594159327983\n",
      "              precision    recall  f1-score   support\n",
      "\n",
      "           0       0.98      0.78      0.87      5196\n",
      "           1       1.00      0.91      0.95      4694\n",
      "           2       0.20      0.36      0.26       491\n",
      "           3       0.16      0.30      0.21       526\n",
      "           4       0.15      0.24      0.19       420\n",
      "           5       0.09      0.26      0.14       209\n",
      "\n",
      "    accuracy                           0.77     11536\n",
      "   macro avg       0.43      0.48      0.44     11536\n",
      "weighted avg       0.87      0.77      0.81     11536\n",
      "\n"
     ]
    }
   ],
   "source": [
    "df = pd.read_csv(r\"./../cleaned_datasets/cleaned_news_multinomial.csv\")\n",
    "vec2, xgb_clf2, stats2 = train_xgb_with_oversampling(df[\"text\"], df[\"label\"])\n",
    "\n",
    "print(\"Accuracy:\", stats2[\"accuracy\"])\n",
    "print(\"Weighted F1:\", stats2[\"f1_weighted\"])\n",
    "print(stats2[\"classification_report\"])"
   ]
  },
  {
   "cell_type": "code",
   "execution_count": 8,
   "id": "80a910bd",
   "metadata": {},
   "outputs": [],
   "source": [
    "with open(\"../models/xgb_pipeline.pkl\", \"wb\") as f:\n",
    "    pickle.dump({\"vectorizer\": vec, \"model\": xgb_clf}, f)"
   ]
  }
 ],
 "metadata": {
  "kernelspec": {
   "display_name": "base",
   "language": "python",
   "name": "python3"
  },
  "language_info": {
   "codemirror_mode": {
    "name": "ipython",
    "version": 3
   },
   "file_extension": ".py",
   "mimetype": "text/x-python",
   "name": "python",
   "nbconvert_exporter": "python",
   "pygments_lexer": "ipython3",
   "version": "3.12.3"
  }
 },
 "nbformat": 4,
 "nbformat_minor": 5
}
